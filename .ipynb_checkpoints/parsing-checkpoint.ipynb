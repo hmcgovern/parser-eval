{
 "cells": [
  {
   "cell_type": "code",
   "execution_count": 1,
   "metadata": {},
   "outputs": [],
   "source": [
    "import pandas as pd\n",
    "import numpy as np"
   ]
  },
  {
   "cell_type": "markdown",
   "metadata": {},
   "source": [
    "# Importing the raw text to a pandas dataframe"
   ]
  },
  {
   "cell_type": "code",
   "execution_count": 3,
   "metadata": {},
   "outputs": [
    {
     "name": "stdout",
     "output_type": "stream",
     "text": [
      "                                                text\n",
      "0            The old car broke down in the car park.\n",
      "1         At least two men broke in and stole my TV.\n",
      "2  The horses were broken in and ridden in two we...\n",
      "3   Kim and Sandy both broke up with their partners.\n",
      "4  The horse which Kim sometimes rides is more ba...\n",
      "He tried to ignore what his own common sense told him, but it wasn’t possible; her motives were too blatant.\n",
      "43\n"
     ]
    }
   ],
   "source": [
    "df = pd.read_csv('data/raw.csv', header=0, delimiter='\\t', names=['text'])\n",
    "print(df.head())\n",
    "print(df.text[27])\n",
    "print(len(df.text))"
   ]
  },
  {
   "cell_type": "markdown",
   "metadata": {},
   "source": [
    "## Some Preprocessing"
   ]
  },
  {
   "cell_type": "code",
   "execution_count": 4,
   "metadata": {},
   "outputs": [
    {
     "data": {
      "text/html": [
       "<div>\n",
       "<style scoped>\n",
       "    .dataframe tbody tr th:only-of-type {\n",
       "        vertical-align: middle;\n",
       "    }\n",
       "\n",
       "    .dataframe tbody tr th {\n",
       "        vertical-align: top;\n",
       "    }\n",
       "\n",
       "    .dataframe thead th {\n",
       "        text-align: right;\n",
       "    }\n",
       "</style>\n",
       "<table border=\"1\" class=\"dataframe\">\n",
       "  <thead>\n",
       "    <tr style=\"text-align: right;\">\n",
       "      <th></th>\n",
       "      <th>text</th>\n",
       "    </tr>\n",
       "  </thead>\n",
       "  <tbody>\n",
       "    <tr>\n",
       "      <th>0</th>\n",
       "      <td>the old car broke down in the car park.</td>\n",
       "    </tr>\n",
       "    <tr>\n",
       "      <th>1</th>\n",
       "      <td>at least two men broke in and stole my tv.</td>\n",
       "    </tr>\n",
       "    <tr>\n",
       "      <th>2</th>\n",
       "      <td>the horses were broken in and ridden in two we...</td>\n",
       "    </tr>\n",
       "    <tr>\n",
       "      <th>3</th>\n",
       "      <td>kim and sandy both broke up with their partners.</td>\n",
       "    </tr>\n",
       "    <tr>\n",
       "      <th>4</th>\n",
       "      <td>the horse which kim sometimes rides is more ba...</td>\n",
       "    </tr>\n",
       "  </tbody>\n",
       "</table>\n",
       "</div>"
      ],
      "text/plain": [
       "                                                text\n",
       "0            the old car broke down in the car park.\n",
       "1         at least two men broke in and stole my tv.\n",
       "2  the horses were broken in and ridden in two we...\n",
       "3   kim and sandy both broke up with their partners.\n",
       "4  the horse which kim sometimes rides is more ba..."
      ]
     },
     "execution_count": 4,
     "metadata": {},
     "output_type": "execute_result"
    }
   ],
   "source": [
    "cleaned = df.copy()\n",
    "# lowercasing all text\n",
    "cleaned.text = df.text.str.lower()\n",
    "cleaned.head()"
   ]
  },
  {
   "cell_type": "markdown",
   "metadata": {},
   "source": [
    "### grabbing the sentences we need"
   ]
  },
  {
   "cell_type": "code",
   "execution_count": 5,
   "metadata": {},
   "outputs": [],
   "source": [
    "sents = [5, 6, 7, 9, 10, 16, 17, 18, 20, 23, 26, 27, 28, 29, 30, 31, 32, 33, 34, 35, 36, 37, 38, 39, 40, 41, 42, 43]\n",
    "test_set = cleaned.iloc[[i-1 for i in sents]]"
   ]
  },
  {
   "cell_type": "markdown",
   "metadata": {},
   "source": [
    "#### saving to disk for the parsers which use a command line tool"
   ]
  },
  {
   "cell_type": "code",
   "execution_count": 6,
   "metadata": {},
   "outputs": [],
   "source": [
    "test_set.to_csv('data/test_set.txt',header=None, index=None)"
   ]
  },
  {
   "cell_type": "markdown",
   "metadata": {},
   "source": [
    "# Stanford PCFG Parser"
   ]
  },
  {
   "cell_type": "markdown",
   "metadata": {},
   "source": [
    "#### Passing data to the command line tool and piping to a .txt file"
   ]
  },
  {
   "cell_type": "code",
   "execution_count": null,
   "metadata": {},
   "outputs": [],
   "source": [
    "!stanford-parser-full-2020-11-17/lexparser.sh data/test_set.txt > output/stanford_out.txt"
   ]
  },
  {
   "cell_type": "markdown",
   "metadata": {},
   "source": [
    "# SpaCy"
   ]
  },
  {
   "cell_type": "code",
   "execution_count": null,
   "metadata": {},
   "outputs": [],
   "source": [
    "#!python -m spacy download en_core_web_md"
   ]
  },
  {
   "cell_type": "code",
   "execution_count": 8,
   "metadata": {},
   "outputs": [],
   "source": [
    "import spacy\n",
    "nlp = spacy.load('en_core_web_md')"
   ]
  },
  {
   "cell_type": "markdown",
   "metadata": {},
   "source": [
    "#### writing to .txt file in a format comparable with Stanford output"
   ]
  },
  {
   "cell_type": "code",
   "execution_count": 9,
   "metadata": {},
   "outputs": [],
   "source": [
    "with open('output/spacy.txt', 'w') as f:\n",
    "    for sent in test_set.text:\n",
    "        doc = nlp(sent)\n",
    "        for token in doc:\n",
    "            f.write('{}({}, {})\\n'.format(token.dep_, token.head, token.text.lower()))\n",
    "        f.write('\\n')"
   ]
  },
  {
   "cell_type": "code",
   "execution_count": null,
   "metadata": {},
   "outputs": [],
   "source": [
    "# this is for the format needed by DependAble\n",
    "# with open('spacy_output_TEST.tsv', 'w') as f:\n",
    "#     for i, sent in enumerate(content[:3]):\n",
    "#         doc = nlp(sent.strip())\n",
    "#         for j, word in enumerate(doc):\n",
    "#             # make a dict for lookup\n",
    "#             lookup = {word:j+1 for j, word in enumerate(doc)}\n",
    "#             f.write(str(j+1)) # num\n",
    "#             f.write('\\t')\n",
    "#             f.write(word.text) # word\n",
    "#             f.write('\\t')\n",
    "#             f.write(word.lemma_) # lemma\n",
    "#             f.write('\\t')\n",
    "#             f.write('_') # _\n",
    "#             f.write('\\t')\n",
    "#             f.write(word.tag_) # POS\n",
    "#             f.write('\\t')\n",
    "#             f.write('_') # _\n",
    "#             f.write('\\t')\n",
    "#             f.write(str(lookup[word.head])) # head but I need num\n",
    "#             f.write('\\t')\n",
    "#             f.write(word.dep_)\n",
    "#             f.write('\\t')\n",
    "#             f.write('_')\n",
    "#             f.write('\\n')\n",
    "#         f.write('\\n')"
   ]
  },
  {
   "cell_type": "markdown",
   "metadata": {},
   "source": [
    "# RASP"
   ]
  },
  {
   "cell_type": "markdown",
   "metadata": {},
   "source": [
    "#### Passing data to the command line tool and piping to a .txt file"
   ]
  },
  {
   "cell_type": "code",
   "execution_count": 10,
   "metadata": {},
   "outputs": [],
   "source": [
    "!./rasp3os/scripts/rasp.sh -m < data/test_set.txt > output/rasp.txt"
   ]
  },
  {
   "cell_type": "markdown",
   "metadata": {},
   "source": [
    "# Unbound Dependencies"
   ]
  },
  {
   "cell_type": "markdown",
   "metadata": {},
   "source": [
    "#### loading in the unbound dependency dataset"
   ]
  },
  {
   "cell_type": "code",
   "execution_count": 171,
   "metadata": {},
   "outputs": [
    {
     "data": {
      "text/html": [
       "<div>\n",
       "<style scoped>\n",
       "    .dataframe tbody tr th:only-of-type {\n",
       "        vertical-align: middle;\n",
       "    }\n",
       "\n",
       "    .dataframe tbody tr th {\n",
       "        vertical-align: top;\n",
       "    }\n",
       "\n",
       "    .dataframe thead th {\n",
       "        text-align: right;\n",
       "    }\n",
       "</style>\n",
       "<table border=\"1\" class=\"dataframe\">\n",
       "  <thead>\n",
       "    <tr style=\"text-align: right;\">\n",
       "      <th></th>\n",
       "      <th>text</th>\n",
       "      <th>gr</th>\n",
       "      <th>head</th>\n",
       "      <th>dep</th>\n",
       "      <th>distance</th>\n",
       "      <th>dep_type</th>\n",
       "      <th>spacy</th>\n",
       "      <th>stanford</th>\n",
       "      <th>rasp</th>\n",
       "      <th>dep_name</th>\n",
       "    </tr>\n",
       "  </thead>\n",
       "  <tbody>\n",
       "    <tr>\n",
       "      <th>0</th>\n",
       "      <td>The horse which Kim sometimes rides is more ba...</td>\n",
       "      <td>dobj</td>\n",
       "      <td>6</td>\n",
       "      <td>2</td>\n",
       "      <td>4</td>\n",
       "      <td>0</td>\n",
       "      <td>1.0</td>\n",
       "      <td>1.0</td>\n",
       "      <td>NaN</td>\n",
       "      <td>obj from rel clause</td>\n",
       "    </tr>\n",
       "    <tr>\n",
       "      <th>1</th>\n",
       "      <td>the horse as well as the rabbits which we want...</td>\n",
       "      <td>dobj</td>\n",
       "      <td>10</td>\n",
       "      <td>2</td>\n",
       "      <td>8</td>\n",
       "      <td>0</td>\n",
       "      <td>0.0</td>\n",
       "      <td>0.0</td>\n",
       "      <td>NaN</td>\n",
       "      <td>obj from rel clause</td>\n",
       "    </tr>\n",
       "    <tr>\n",
       "      <th>2</th>\n",
       "      <td>the horse as well as the rabbits which we want...</td>\n",
       "      <td>dobj</td>\n",
       "      <td>10</td>\n",
       "      <td>7</td>\n",
       "      <td>3</td>\n",
       "      <td>0</td>\n",
       "      <td>1.0</td>\n",
       "      <td>1.0</td>\n",
       "      <td>NaN</td>\n",
       "      <td>obj from rel clause</td>\n",
       "    </tr>\n",
       "    <tr>\n",
       "      <th>3</th>\n",
       "      <td>It was my aunt’s car which we sold at auction ...</td>\n",
       "      <td>dobj</td>\n",
       "      <td>9</td>\n",
       "      <td>6</td>\n",
       "      <td>3</td>\n",
       "      <td>0</td>\n",
       "      <td>1.0</td>\n",
       "      <td>1.0</td>\n",
       "      <td>NaN</td>\n",
       "      <td>obj from rel clause</td>\n",
       "    </tr>\n",
       "    <tr>\n",
       "      <th>4</th>\n",
       "      <td>The veterans who I thought that we would meet ...</td>\n",
       "      <td>dobj</td>\n",
       "      <td>5</td>\n",
       "      <td>2</td>\n",
       "      <td>3</td>\n",
       "      <td>0</td>\n",
       "      <td>1.0</td>\n",
       "      <td>1.0</td>\n",
       "      <td>NaN</td>\n",
       "      <td>obj from rel clause</td>\n",
       "    </tr>\n",
       "  </tbody>\n",
       "</table>\n",
       "</div>"
      ],
      "text/plain": [
       "                                                text    gr  head  dep  \\\n",
       "0  The horse which Kim sometimes rides is more ba...  dobj     6    2   \n",
       "1  the horse as well as the rabbits which we want...  dobj    10    2   \n",
       "2  the horse as well as the rabbits which we want...  dobj    10    7   \n",
       "3  It was my aunt’s car which we sold at auction ...  dobj     9    6   \n",
       "4  The veterans who I thought that we would meet ...  dobj     5    2   \n",
       "\n",
       "   distance  dep_type  spacy  stanford  rasp             dep_name  \n",
       "0         4         0    1.0       1.0   NaN  obj from rel clause  \n",
       "1         8         0    0.0       0.0   NaN  obj from rel clause  \n",
       "2         3         0    1.0       1.0   NaN  obj from rel clause  \n",
       "3         3         0    1.0       1.0   NaN  obj from rel clause  \n",
       "4         3         0    1.0       1.0   NaN  obj from rel clause  "
      ]
     },
     "execution_count": 171,
     "metadata": {},
     "output_type": "execute_result"
    }
   ],
   "source": [
    "dep_df = pd.read_csv('data/dep_data.csv', header=0, names=['text', 'gr','head','dep','distance', 'dep_type', 'spacy', 'stanford', 'rasp'])\n",
    "dep_lookup = {0: 'obj from rel clause', 1: 'obj from reduced rel clause', 2: 'subj from rel clause', \\\n",
    "              3: 'free relative', 4: 'obj wh-questions', 5: 'RNR', 6: 'subj from embed'}\n",
    "\n",
    "data = dep_df.copy()\n",
    "data[\"dep_name\"] = [dep_lookup[i] for i in dep_df.dep_type]\n",
    "data.head()"
   ]
  },
  {
   "cell_type": "code",
   "execution_count": 172,
   "metadata": {},
   "outputs": [
    {
     "data": {
      "text/plain": [
       "dep_name\n",
       "RNR                             5\n",
       "free relative                   5\n",
       "obj from reduced rel clause     4\n",
       "obj from rel clause             8\n",
       "obj wh-questions                7\n",
       "subj from embed                 7\n",
       "subj from rel clause           13\n",
       "Name: distance, dtype: int64"
      ]
     },
     "execution_count": 172,
     "metadata": {},
     "output_type": "execute_result"
    }
   ],
   "source": [
    "# get max distance btw head and dependent by dep_type\n",
    "data.groupby(\"dep_name\")[\"distance\"].max()"
   ]
  },
  {
   "cell_type": "code",
   "execution_count": 175,
   "metadata": {},
   "outputs": [
    {
     "data": {
      "text/plain": [
       "dep_name\n",
       "RNR                            2.500000\n",
       "free relative                  5.000000\n",
       "obj from reduced rel clause    4.000000\n",
       "obj from rel clause            4.428571\n",
       "obj wh-questions               7.000000\n",
       "subj from embed                6.500000\n",
       "subj from rel clause           5.666667\n",
       "Name: distance, dtype: float64"
      ]
     },
     "execution_count": 175,
     "metadata": {},
     "output_type": "execute_result"
    }
   ],
   "source": [
    "# get average distance btw head and dependent by dep_type\n",
    "data.groupby(\"dep_name\")[\"distance\"].mean()"
   ]
  },
  {
   "cell_type": "code",
   "execution_count": 174,
   "metadata": {},
   "outputs": [
    {
     "data": {
      "text/plain": [
       "dep_name\n",
       "RNR                                 NaN\n",
       "free relative                  0.000000\n",
       "obj from reduced rel clause         NaN\n",
       "obj from rel clause            0.857143\n",
       "obj wh-questions                    NaN\n",
       "subj from embed                0.000000\n",
       "subj from rel clause           0.600000\n",
       "Name: spacy, dtype: float64"
      ]
     },
     "execution_count": 174,
     "metadata": {},
     "output_type": "execute_result"
    }
   ],
   "source": [
    "# accuracy by dep_type for spacy\n",
    "data.groupby(\"dep_name\")[\"spacy\"].mean()"
   ]
  },
  {
   "cell_type": "code",
   "execution_count": 176,
   "metadata": {},
   "outputs": [
    {
     "data": {
      "text/plain": [
       "0.6428571428571429"
      ]
     },
     "execution_count": 176,
     "metadata": {},
     "output_type": "execute_result"
    }
   ],
   "source": [
    "# overall accuracy for spacy\n",
    "data[\"spacy\"].mean()"
   ]
  },
  {
   "cell_type": "code",
   "execution_count": 155,
   "metadata": {},
   "outputs": [
    {
     "data": {
      "text/plain": [
       "dep_name\n",
       "free relative           1.000000\n",
       "obj from rel clause     0.571429\n",
       "subj from embed         0.000000\n",
       "subj from rel clause    0.400000\n",
       "Name: stanford, dtype: float64"
      ]
     },
     "execution_count": 155,
     "metadata": {},
     "output_type": "execute_result"
    }
   ],
   "source": [
    "# accuracy by dep_type for stanford parser\n",
    "data.groupby(\"dep_name\")[\"stanford\"].mean()"
   ]
  },
  {
   "cell_type": "code",
   "execution_count": 158,
   "metadata": {},
   "outputs": [
    {
     "data": {
      "text/plain": [
       "0.5"
      ]
     },
     "execution_count": 158,
     "metadata": {},
     "output_type": "execute_result"
    }
   ],
   "source": [
    "# overall accuracy for stanford\n",
    "data[\"stanford\"].mean()"
   ]
  },
  {
   "cell_type": "code",
   "execution_count": 156,
   "metadata": {},
   "outputs": [
    {
     "data": {
      "text/plain": [
       "dep_name\n",
       "free relative          NaN\n",
       "obj from rel clause    NaN\n",
       "subj from embed        NaN\n",
       "subj from rel clause   NaN\n",
       "Name: rasp, dtype: float64"
      ]
     },
     "execution_count": 156,
     "metadata": {},
     "output_type": "execute_result"
    }
   ],
   "source": [
    "# accuracy by dep_type for rasp \n",
    "data.groupby(\"dep_name\")[\"rasp\"].mean()"
   ]
  },
  {
   "cell_type": "code",
   "execution_count": 159,
   "metadata": {},
   "outputs": [
    {
     "data": {
      "text/plain": [
       "nan"
      ]
     },
     "execution_count": 159,
     "metadata": {},
     "output_type": "execute_result"
    }
   ],
   "source": [
    "# overall accuracy for rasp\n",
    "data[\"rasp\"].mean()"
   ]
  },
  {
   "cell_type": "code",
   "execution_count": null,
   "metadata": {},
   "outputs": [],
   "source": []
  }
 ],
 "metadata": {
  "kernelspec": {
   "display_name": "Python (parsers)",
   "language": "python",
   "name": "parsers"
  },
  "language_info": {
   "codemirror_mode": {
    "name": "ipython",
    "version": 3
   },
   "file_extension": ".py",
   "mimetype": "text/x-python",
   "name": "python",
   "nbconvert_exporter": "python",
   "pygments_lexer": "ipython3",
   "version": "3.7.9"
  }
 },
 "nbformat": 4,
 "nbformat_minor": 4
}
