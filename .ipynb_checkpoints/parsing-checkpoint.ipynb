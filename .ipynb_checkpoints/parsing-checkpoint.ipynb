{
 "cells": [
  {
   "cell_type": "code",
   "execution_count": 2,
   "metadata": {},
   "outputs": [],
   "source": [
    "import pandas as pd\n",
    "import numpy as np"
   ]
  },
  {
   "cell_type": "markdown",
   "metadata": {},
   "source": [
    "# Importing the raw text to a pandas dataframe"
   ]
  },
  {
   "cell_type": "code",
   "execution_count": 29,
   "metadata": {},
   "outputs": [
    {
     "data": {
      "text/plain": [
       "'The old car broke down in the car park.'"
      ]
     },
     "execution_count": 29,
     "metadata": {},
     "output_type": "execute_result"
    }
   ],
   "source": [
    "df = pd.read_csv('raw.txt', header=None, delimiter='\\n', names=['sents'])\n",
    "df.sents[0]"
   ]
  },
  {
   "cell_type": "markdown",
   "metadata": {},
   "source": [
    "## Some Preprocessing"
   ]
  },
  {
   "cell_type": "code",
   "execution_count": 32,
   "metadata": {},
   "outputs": [
    {
     "data": {
      "text/html": [
       "<div>\n",
       "<style scoped>\n",
       "    .dataframe tbody tr th:only-of-type {\n",
       "        vertical-align: middle;\n",
       "    }\n",
       "\n",
       "    .dataframe tbody tr th {\n",
       "        vertical-align: top;\n",
       "    }\n",
       "\n",
       "    .dataframe thead th {\n",
       "        text-align: right;\n",
       "    }\n",
       "</style>\n",
       "<table border=\"1\" class=\"dataframe\">\n",
       "  <thead>\n",
       "    <tr style=\"text-align: right;\">\n",
       "      <th></th>\n",
       "      <th>sents</th>\n",
       "    </tr>\n",
       "  </thead>\n",
       "  <tbody>\n",
       "    <tr>\n",
       "      <th>0</th>\n",
       "      <td>the old car broke down in the car park.</td>\n",
       "    </tr>\n",
       "    <tr>\n",
       "      <th>1</th>\n",
       "      <td>at least two men broke in and stole my tv.</td>\n",
       "    </tr>\n",
       "    <tr>\n",
       "      <th>2</th>\n",
       "      <td>the horses were broken in and ridden in two we...</td>\n",
       "    </tr>\n",
       "    <tr>\n",
       "      <th>3</th>\n",
       "      <td>kim and sandy both broke up with their partners.</td>\n",
       "    </tr>\n",
       "    <tr>\n",
       "      <th>4</th>\n",
       "      <td>the horse which kim sometimes rides is more ba...</td>\n",
       "    </tr>\n",
       "  </tbody>\n",
       "</table>\n",
       "</div>"
      ],
      "text/plain": [
       "                                               sents\n",
       "0            the old car broke down in the car park.\n",
       "1         at least two men broke in and stole my tv.\n",
       "2  the horses were broken in and ridden in two we...\n",
       "3   kim and sandy both broke up with their partners.\n",
       "4  the horse which kim sometimes rides is more ba..."
      ]
     },
     "execution_count": 32,
     "metadata": {},
     "output_type": "execute_result"
    }
   ],
   "source": [
    "cleaned = df.copy()\n",
    "cleaned.sents = df.sents.str.lower()\n",
    "cleaned.head()"
   ]
  },
  {
   "cell_type": "code",
   "execution_count": 70,
   "metadata": {},
   "outputs": [],
   "source": [
    "SUBSET = [1,3, 6, 8, 14, 15, 16, 18, 19, 20]\n",
    "test_set = cleaned.iloc[SUBSET]"
   ]
  },
  {
   "cell_type": "code",
   "execution_count": 71,
   "metadata": {},
   "outputs": [],
   "source": [
    "test_set.to_csv('data/test_set.txt',header=None, index=None)"
   ]
  },
  {
   "cell_type": "markdown",
   "metadata": {},
   "source": [
    "# Stanford PCFG Parser"
   ]
  },
  {
   "cell_type": "markdown",
   "metadata": {},
   "source": [
    "#### Prepping data for the command line tool"
   ]
  },
  {
   "cell_type": "code",
   "execution_count": null,
   "metadata": {},
   "outputs": [],
   "source": [
    "!stanford-parser-full-2020-11-17/lexparser.sh data/test_set.txt > output/stanford_out.txt"
   ]
  },
  {
   "cell_type": "markdown",
   "metadata": {},
   "source": [
    "# SpaCy"
   ]
  },
  {
   "cell_type": "code",
   "execution_count": null,
   "metadata": {},
   "outputs": [],
   "source": [
    "#!python -m spacy download en_core_web_md"
   ]
  },
  {
   "cell_type": "code",
   "execution_count": 59,
   "metadata": {},
   "outputs": [
    {
     "data": {
      "text/html": [
       "<div>\n",
       "<style scoped>\n",
       "    .dataframe tbody tr th:only-of-type {\n",
       "        vertical-align: middle;\n",
       "    }\n",
       "\n",
       "    .dataframe tbody tr th {\n",
       "        vertical-align: top;\n",
       "    }\n",
       "\n",
       "    .dataframe thead th {\n",
       "        text-align: right;\n",
       "    }\n",
       "</style>\n",
       "<table border=\"1\" class=\"dataframe\">\n",
       "  <thead>\n",
       "    <tr style=\"text-align: right;\">\n",
       "      <th></th>\n",
       "      <th>sents</th>\n",
       "    </tr>\n",
       "  </thead>\n",
       "  <tbody>\n",
       "    <tr>\n",
       "      <th>1</th>\n",
       "      <td>at least two men broke in and stole my tv.</td>\n",
       "    </tr>\n",
       "    <tr>\n",
       "      <th>3</th>\n",
       "      <td>kim and sandy both broke up with their partners.</td>\n",
       "    </tr>\n",
       "    <tr>\n",
       "      <th>6</th>\n",
       "      <td>it was my aunt’s car which we sold at auction ...</td>\n",
       "    </tr>\n",
       "    <tr>\n",
       "      <th>8</th>\n",
       "      <td>the veterans who i thought that we would meet ...</td>\n",
       "    </tr>\n",
       "    <tr>\n",
       "      <th>14</th>\n",
       "      <td>english  also  has  many  words  of  more  or ...</td>\n",
       "    </tr>\n",
       "  </tbody>\n",
       "</table>\n",
       "</div>"
      ],
      "text/plain": [
       "                                                sents\n",
       "1          at least two men broke in and stole my tv.\n",
       "3    kim and sandy both broke up with their partners.\n",
       "6   it was my aunt’s car which we sold at auction ...\n",
       "8   the veterans who i thought that we would meet ...\n",
       "14  english  also  has  many  words  of  more  or ..."
      ]
     },
     "execution_count": 59,
     "metadata": {},
     "output_type": "execute_result"
    }
   ],
   "source": [
    "# SpaCy\n",
    "import spacy\n",
    "nlp = spacy.load('en_core_web_md')"
   ]
  },
  {
   "cell_type": "code",
   "execution_count": 69,
   "metadata": {},
   "outputs": [],
   "source": [
    "with open('output/spacy.txt', 'w') as f:\n",
    "    for sent in test_set.sents:\n",
    "        doc = nlp(sent)\n",
    "        for token in doc:\n",
    "            f.write('{}({}, {})\\n'.format(token.dep_, token.head, token.text.lower()))\n",
    "        f.write('\\n')"
   ]
  },
  {
   "cell_type": "code",
   "execution_count": null,
   "metadata": {},
   "outputs": [],
   "source": [
    "# this is for the format needed by DependAble\n",
    "# with open('spacy_output_TEST.tsv', 'w') as f:\n",
    "#     for i, sent in enumerate(content[:3]):\n",
    "#         doc = nlp(sent.strip())\n",
    "#         for j, word in enumerate(doc):\n",
    "#             # make a dict for lookup\n",
    "#             lookup = {word:j+1 for j, word in enumerate(doc)}\n",
    "#             f.write(str(j+1)) # num\n",
    "#             f.write('\\t')\n",
    "#             f.write(word.text) # word\n",
    "#             f.write('\\t')\n",
    "#             f.write(word.lemma_) # lemma\n",
    "#             f.write('\\t')\n",
    "#             f.write('_') # _\n",
    "#             f.write('\\t')\n",
    "#             f.write(word.tag_) # POS\n",
    "#             f.write('\\t')\n",
    "#             f.write('_') # _\n",
    "#             f.write('\\t')\n",
    "#             f.write(str(lookup[word.head])) # head but I need num\n",
    "#             f.write('\\t')\n",
    "#             f.write(word.dep_)\n",
    "#             f.write('\\t')\n",
    "#             f.write('_')\n",
    "#             f.write('\\n')\n",
    "#         f.write('\\n')"
   ]
  },
  {
   "cell_type": "markdown",
   "metadata": {},
   "source": [
    "# RASP"
   ]
  },
  {
   "cell_type": "code",
   "execution_count": 73,
   "metadata": {},
   "outputs": [],
   "source": [
    "!./rasp3os/scripts/rasp.sh -m < data/test_set.txt > output/rasp.txt"
   ]
  }
 ],
 "metadata": {
  "kernelspec": {
   "display_name": "Python (parsers)",
   "language": "python",
   "name": "parsers"
  },
  "language_info": {
   "codemirror_mode": {
    "name": "ipython",
    "version": 3
   },
   "file_extension": ".py",
   "mimetype": "text/x-python",
   "name": "python",
   "nbconvert_exporter": "python",
   "pygments_lexer": "ipython3",
   "version": "3.7.9"
  }
 },
 "nbformat": 4,
 "nbformat_minor": 4
}
