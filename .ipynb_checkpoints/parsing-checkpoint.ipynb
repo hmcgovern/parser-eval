{
 "cells": [
  {
   "cell_type": "code",
   "execution_count": 24,
   "metadata": {},
   "outputs": [],
   "source": [
    "import pandas as pd\n",
    "import numpy as np\n",
    "import time"
   ]
  },
  {
   "cell_type": "markdown",
   "metadata": {},
   "source": [
    "# Importing the raw text to a pandas dataframe"
   ]
  },
  {
   "cell_type": "code",
   "execution_count": 25,
   "metadata": {},
   "outputs": [
    {
     "name": "stdout",
     "output_type": "stream",
     "text": [
      "                                                text\n",
      "0  The horse which Kim sometimes rides is more ba...\n",
      "1  The horse as well as the rabbits which we want...\n",
      "2  It was my aunt’s car which we sold at auction ...\n",
      "3  The veterans who I thought that we would meet ...\n",
      "4  Natural  disasters  –  storms,  flooding,  hur...\n",
      "The veterans who I thought we would meet at the reunion were dead.\n",
      "29\n"
     ]
    }
   ],
   "source": [
    "df = pd.read_csv('data/raw.csv', header=0, delimiter='\\t', names=['text'])\n",
    "print(df.head())\n",
    "print(df.text[27])\n",
    "print(len(df.text))"
   ]
  },
  {
   "cell_type": "markdown",
   "metadata": {},
   "source": [
    "## Some Preprocessing"
   ]
  },
  {
   "cell_type": "code",
   "execution_count": 26,
   "metadata": {},
   "outputs": [
    {
     "data": {
      "text/html": [
       "<div>\n",
       "<style scoped>\n",
       "    .dataframe tbody tr th:only-of-type {\n",
       "        vertical-align: middle;\n",
       "    }\n",
       "\n",
       "    .dataframe tbody tr th {\n",
       "        vertical-align: top;\n",
       "    }\n",
       "\n",
       "    .dataframe thead th {\n",
       "        text-align: right;\n",
       "    }\n",
       "</style>\n",
       "<table border=\"1\" class=\"dataframe\">\n",
       "  <thead>\n",
       "    <tr style=\"text-align: right;\">\n",
       "      <th></th>\n",
       "      <th>text</th>\n",
       "    </tr>\n",
       "  </thead>\n",
       "  <tbody>\n",
       "    <tr>\n",
       "      <th>0</th>\n",
       "      <td>the horse which kim sometimes rides is more ba...</td>\n",
       "    </tr>\n",
       "    <tr>\n",
       "      <th>1</th>\n",
       "      <td>the horse as well as the rabbits which we want...</td>\n",
       "    </tr>\n",
       "    <tr>\n",
       "      <th>2</th>\n",
       "      <td>it was my aunt’s car which we sold at auction ...</td>\n",
       "    </tr>\n",
       "    <tr>\n",
       "      <th>3</th>\n",
       "      <td>the veterans who i thought that we would meet ...</td>\n",
       "    </tr>\n",
       "    <tr>\n",
       "      <th>4</th>\n",
       "      <td>natural  disasters  –  storms,  flooding,  hur...</td>\n",
       "    </tr>\n",
       "  </tbody>\n",
       "</table>\n",
       "</div>"
      ],
      "text/plain": [
       "                                                text\n",
       "0  the horse which kim sometimes rides is more ba...\n",
       "1  the horse as well as the rabbits which we want...\n",
       "2  it was my aunt’s car which we sold at auction ...\n",
       "3  the veterans who i thought that we would meet ...\n",
       "4  natural  disasters  –  storms,  flooding,  hur..."
      ]
     },
     "execution_count": 26,
     "metadata": {},
     "output_type": "execute_result"
    }
   ],
   "source": [
    "cleaned = df.copy()\n",
    "# lowercasing all text\n",
    "cleaned.text = df.text.str.lower()\n",
    "cleaned.head()"
   ]
  },
  {
   "cell_type": "markdown",
   "metadata": {},
   "source": [
    "### grabbing the sentences we need"
   ]
  },
  {
   "cell_type": "code",
   "execution_count": 5,
   "metadata": {},
   "outputs": [],
   "source": [
    "# sents = [5, 6, 7, 9, 10, 16, 17, 18, 20, 23, 26, 27, 28, 29, 30, 31, 32, 33, 34, 35, 36, 37, 38, 39, 40, 41, 42, 43]\n",
    "# test_set = cleaned.iloc[[i-1 for i in sents]]"
   ]
  },
  {
   "cell_type": "markdown",
   "metadata": {},
   "source": [
    "#### saving to disk for the parsers which use a command line tool"
   ]
  },
  {
   "cell_type": "code",
   "execution_count": 27,
   "metadata": {},
   "outputs": [],
   "source": [
    "cleaned.to_csv('data/test_set.txt',header=None, index=None)"
   ]
  },
  {
   "cell_type": "markdown",
   "metadata": {},
   "source": [
    "# Stanford PCFG Parser"
   ]
  },
  {
   "cell_type": "markdown",
   "metadata": {},
   "source": [
    "#### Passing data to the command line tool and piping to a .txt file"
   ]
  },
  {
   "cell_type": "code",
   "execution_count": 28,
   "metadata": {},
   "outputs": [
    {
     "name": "stdout",
     "output_type": "stream",
     "text": [
      "[main] INFO edu.stanford.nlp.parser.lexparser.LexicalizedParser - Loading parser from serialized file edu/stanford/nlp/models/lexparser/englishPCFG.ser.gz ... done [0.7 sec].\n",
      "Parsing file: data/test_set.txt\n",
      "Parsing [sent. 1 len. 13]: the horse which kim sometimes rides is more bad tempered than mine .\n",
      "Parsing [sent. 2 len. 15]: the horse as well as the rabbits which we wanted to eat have escaped .\n",
      "Parsing [sent. 3 len. 16]: it was my aunt ’s car which we sold at auction last year in february .\n",
      "Parsing [sent. 4 len. 16]: the veterans who i thought that we would meet at the reunion were dead . \"\n",
      "Parsing [sent. 5 len. 23]: natural disasters – storms , flooding , hurricanes – occur infrequently but cause devastation that strains resources to breaking point . \" \"\n",
      "Parsing [sent. 6 len. 40]: making these decisions requires sophisticated knowledge of syntax ; tagging manuals ( santorini , 1990 ) give various heuristics that can help human coders make these decisions and that can also provide useful features for automatic taggers . \" \"\n",
      "Parsing [sent. 7 len. 18]: the penn treebank tagset was culled from the original 87 - tag tagset for the brown corpus .\n",
      "Parsing [sent. 8 len. 42]: for example the original brown and c5 tagsets include a separate tag for each of the different forms of the verbs do ( e.g. c5 tag vdd for did and vdg tag for doing ) , be and have . \" \"\n",
      "Parsing [sent. 9 len. 58]: the slightly simplified version of the viterbi algorithm that we present takes as input a single hmm and a sequence of observed words o = ( o1 , o2 , ... ot ) and returns the most probable state / tag sequence q = ( q1 , q2 , qt ) together with its probability . \" \"\n",
      "Parsing [sent. 10 len. 46]: coming home from very lonely places , all of us go a little mad : whether from great personal success , or just an all - night drive , we are the sole survivors of a world no one else has ever seen . \" \"\n",
      "Parsing [sent. 11 len. 42]: but far fewer people fully understand how the media lab operates , fits into mit , and encourages such a creative environment ; about half of the anniversary celebration ’s program focused on simply defining what the media lab is . \"\n",
      "Parsing [sent. 12 len. 25]: it consists of a series of pipes and a pressure - measuring chamber which record the rise and fall of the water surface . \"\n",
      "Parsing [sent. 13 len. 25]: he tried to ignore what his own common sense told him , but it was n’t possible ; her motives were too blatant . \"\n",
      "Parsing [sent. 14 len. 11]: what city does the tour de france end in ? \"\n",
      "Parsing [sent. 15 len. 36]: for the third year in a row , consumers voted bill cosby first and james garner second in persuasiveness as spokesmen in tv commercials , according to video storyboard tests , new york . \" \"\n",
      "Parsing [sent. 16 len. 40]: in assigning to god the responsibility which he learned could not rest with his doctors , eisenhower gave evidence of that weakening of the moral intuition which was to characterize his administration in the years to follow . \" \"\n",
      "Parsing [sent. 17 len. 17]: by monday , they hope to have a sheaf of documents both sides can trust . \"\n",
      "Parsing [sent. 18 len. 9]: what did you submit to your thesis advisor ?\n",
      "Parsing [sent. 19 len. 8]: what did you call to tell me ?\n",
      "Parsing [sent. 20 len. 11]: where should i park to avoid getting a parking ticket ?\n",
      "Parsing [sent. 21 len. 10]: what did you eat during your vacation in rome ?\n",
      "Parsing [sent. 22 len. 16]: nobody knows what happened because no one else was in the room when it happened .\n",
      "Parsing [sent. 23 len. 12]: she could n't ignore what her heart was telling her . \"\n",
      "Parsing [sent. 24 len. 15]: he told her he needed to find himself , whatever that means . \" \"\n",
      "Parsing [sent. 25 len. 50]: honolulu , which is the center of the warning system , was under threat of attack \" the stranger who had held out his cigarette lighter to me retreated back into the shadows each must match wisman ’s “ pie ” with the fragment he carries with him . \"\n",
      "Parsing [sent. 26 len. 56]: the slightly simplified version of the viterbi algorithm we present takes as input a single hmm and a sequence of observed words o = ( o1 , o2 , ... ot ) and returns the most probable state / tag sequence q = ( q1 , q2 , qt ) together with its probability . \"\n",
      "Parsing [sent. 27 len. 14]: the veterans who i thought we would meet at the reunion were dead .\n",
      "Parsing [sent. 28 len. 13]: the veterans who i thought would be at the reunion were dead .\n",
      "Parsed file: data/test_set.txt [28 sentences].\n",
      "Parsed 697 words in 28 sentences (26.43 wds/sec; 1.06 sents/sec).\n"
     ]
    }
   ],
   "source": [
    "!stanford-parser-full-2020-11-17/lexparser.sh data/test_set.txt > output/stanford_out.txt"
   ]
  },
  {
   "cell_type": "code",
   "execution_count": 23,
   "metadata": {},
   "outputs": [
    {
     "name": "stdout",
     "output_type": "stream",
     "text": [
      "[main] INFO edu.stanford.nlp.parser.lexparser.LexicalizedParser - Loading parser from serialized file edu/stanford/nlp/models/lexparser/englishPCFG.ser.gz ... done [0.6 sec].\n",
      "Parsing file: data/modified.txt\n",
      "Parsing [sent. 1 len. 19]: all of use go a little mad from great personal success or just an all - night drive .\n",
      "(ROOT\n",
      "  (S\n",
      "    (NP\n",
      "      (NP (DT all))\n",
      "      (PP (IN of)\n",
      "        (NP (NN use))))\n",
      "    (VP (VBP go)\n",
      "      (ADJP\n",
      "        (NP (DT a) (JJ little))\n",
      "        (JJ mad)\n",
      "        (PP (IN from)\n",
      "          (NP\n",
      "            (NP (JJ great) (JJ personal) (NN success))\n",
      "            (CC or)\n",
      "            (NP (RB just) (DT an)\n",
      "              (NML (DT all) (HYPH -) (NN night))\n",
      "              (NN drive))))))\n",
      "    (. .)))\n",
      "\n",
      "nsubj(go-4, all-1)\n",
      "case(use-3, of-2)\n",
      "nmod:of(all-1, use-3)\n",
      "root(ROOT-0, go-4)\n",
      "det(little-6, a-5)\n",
      "obl:npmod(mad-7, little-6)\n",
      "xcomp(go-4, mad-7)\n",
      "case(success-11, from-8)\n",
      "amod(success-11, great-9)\n",
      "amod(success-11, personal-10)\n",
      "obl:from(mad-7, success-11)\n",
      "cc(drive-18, or-12)\n",
      "advmod(drive-18, just-13)\n",
      "det(drive-18, an-14)\n",
      "det(night-17, all-15)\n",
      "punct(night-17, --16)\n",
      "compound(drive-18, night-17)\n",
      "obl:from(mad-7, drive-18)\n",
      "conj:or(success-11, drive-18)\n",
      "\n",
      "Parsed file: data/modified.txt [1 sentences].\n",
      "Parsed 19 words in 1 sentences (32.76 wds/sec; 1.72 sents/sec).\n"
     ]
    }
   ],
   "source": [
    "!stanford-parser-full-2020-11-17/lexparser.sh data/modified.txt"
   ]
  },
  {
   "cell_type": "markdown",
   "metadata": {},
   "source": [
    "# SpaCy"
   ]
  },
  {
   "cell_type": "code",
   "execution_count": null,
   "metadata": {},
   "outputs": [],
   "source": [
    "#!python -m spacy download en_core_web_md"
   ]
  },
  {
   "cell_type": "code",
   "execution_count": 29,
   "metadata": {},
   "outputs": [
    {
     "name": "stdout",
     "output_type": "stream",
     "text": [
      "3.693772077560425\n"
     ]
    }
   ],
   "source": [
    "import spacy\n",
    "start = time.time()\n",
    "nlp = spacy.load('en_core_web_md')\n",
    "end = time.time()\n",
    "print(end-start)"
   ]
  },
  {
   "cell_type": "markdown",
   "metadata": {},
   "source": [
    "#### writing to .txt file in a format comparable with Stanford output"
   ]
  },
  {
   "cell_type": "code",
   "execution_count": 32,
   "metadata": {},
   "outputs": [],
   "source": [
    "# start = time.time()\n",
    "with open('output/spacy.txt', 'w') as f:\n",
    "    for sent in cleaned.text:\n",
    "        doc = nlp(sent)\n",
    "        for token in doc:\n",
    "            f.write('{}({}-{}, {}-{})\\n'.format(token.dep_, token.head, token.head.pos_, token.text.lower(), token.pos_))\n",
    "        f.write('\\n')"
   ]
  },
  {
   "cell_type": "markdown",
   "metadata": {},
   "source": [
    "# RASP"
   ]
  },
  {
   "cell_type": "markdown",
   "metadata": {},
   "source": [
    "#### Passing data to the command line tool and piping to a .txt file"
   ]
  },
  {
   "cell_type": "code",
   "execution_count": 10,
   "metadata": {},
   "outputs": [],
   "source": [
    "!./rasp3os/scripts/rasp.sh -m < data/test_set.txt > output/rasp.txt"
   ]
  },
  {
   "cell_type": "markdown",
   "metadata": {},
   "source": [
    "# Unbound Dependencies"
   ]
  },
  {
   "cell_type": "markdown",
   "metadata": {},
   "source": [
    "#### loading in the unbound dependency dataset"
   ]
  },
  {
   "cell_type": "code",
   "execution_count": 12,
   "metadata": {},
   "outputs": [
    {
     "name": "stdout",
     "output_type": "stream",
     "text": [
      "33\n"
     ]
    },
    {
     "data": {
      "text/html": [
       "<div>\n",
       "<style scoped>\n",
       "    .dataframe tbody tr th:only-of-type {\n",
       "        vertical-align: middle;\n",
       "    }\n",
       "\n",
       "    .dataframe tbody tr th {\n",
       "        vertical-align: top;\n",
       "    }\n",
       "\n",
       "    .dataframe thead th {\n",
       "        text-align: right;\n",
       "    }\n",
       "</style>\n",
       "<table border=\"1\" class=\"dataframe\">\n",
       "  <thead>\n",
       "    <tr style=\"text-align: right;\">\n",
       "      <th></th>\n",
       "      <th>text</th>\n",
       "      <th>gr</th>\n",
       "      <th>head</th>\n",
       "      <th>dep</th>\n",
       "      <th>distance</th>\n",
       "      <th>dep_type</th>\n",
       "      <th>spacy</th>\n",
       "      <th>stanford</th>\n",
       "      <th>rasp</th>\n",
       "      <th>dep_name</th>\n",
       "    </tr>\n",
       "  </thead>\n",
       "  <tbody>\n",
       "    <tr>\n",
       "      <th>0</th>\n",
       "      <td>The horse which Kim sometimes rides is more ba...</td>\n",
       "      <td>dobj</td>\n",
       "      <td>6</td>\n",
       "      <td>2</td>\n",
       "      <td>4</td>\n",
       "      <td>0</td>\n",
       "      <td>1.0</td>\n",
       "      <td>1.0</td>\n",
       "      <td>NaN</td>\n",
       "      <td>obj from rel clause</td>\n",
       "    </tr>\n",
       "    <tr>\n",
       "      <th>1</th>\n",
       "      <td>the horse as well as the rabbits which we want...</td>\n",
       "      <td>dobj</td>\n",
       "      <td>10</td>\n",
       "      <td>2</td>\n",
       "      <td>8</td>\n",
       "      <td>0</td>\n",
       "      <td>0.0</td>\n",
       "      <td>0.0</td>\n",
       "      <td>NaN</td>\n",
       "      <td>obj from rel clause</td>\n",
       "    </tr>\n",
       "    <tr>\n",
       "      <th>2</th>\n",
       "      <td>the horse as well as the rabbits which we want...</td>\n",
       "      <td>dobj</td>\n",
       "      <td>10</td>\n",
       "      <td>7</td>\n",
       "      <td>3</td>\n",
       "      <td>0</td>\n",
       "      <td>1.0</td>\n",
       "      <td>1.0</td>\n",
       "      <td>NaN</td>\n",
       "      <td>obj from rel clause</td>\n",
       "    </tr>\n",
       "    <tr>\n",
       "      <th>3</th>\n",
       "      <td>It was my aunt’s car which we sold at auction ...</td>\n",
       "      <td>dobj</td>\n",
       "      <td>9</td>\n",
       "      <td>6</td>\n",
       "      <td>3</td>\n",
       "      <td>0</td>\n",
       "      <td>1.0</td>\n",
       "      <td>1.0</td>\n",
       "      <td>NaN</td>\n",
       "      <td>obj from rel clause</td>\n",
       "    </tr>\n",
       "    <tr>\n",
       "      <th>4</th>\n",
       "      <td>The veterans who I thought that we would meet ...</td>\n",
       "      <td>dobj</td>\n",
       "      <td>5</td>\n",
       "      <td>2</td>\n",
       "      <td>3</td>\n",
       "      <td>0</td>\n",
       "      <td>1.0</td>\n",
       "      <td>1.0</td>\n",
       "      <td>NaN</td>\n",
       "      <td>obj from rel clause</td>\n",
       "    </tr>\n",
       "  </tbody>\n",
       "</table>\n",
       "</div>"
      ],
      "text/plain": [
       "                                                text    gr  head  dep  \\\n",
       "0  The horse which Kim sometimes rides is more ba...  dobj     6    2   \n",
       "1  the horse as well as the rabbits which we want...  dobj    10    2   \n",
       "2  the horse as well as the rabbits which we want...  dobj    10    7   \n",
       "3  It was my aunt’s car which we sold at auction ...  dobj     9    6   \n",
       "4  The veterans who I thought that we would meet ...  dobj     5    2   \n",
       "\n",
       "   distance  dep_type  spacy  stanford  rasp             dep_name  \n",
       "0         4         0    1.0       1.0   NaN  obj from rel clause  \n",
       "1         8         0    0.0       0.0   NaN  obj from rel clause  \n",
       "2         3         0    1.0       1.0   NaN  obj from rel clause  \n",
       "3         3         0    1.0       1.0   NaN  obj from rel clause  \n",
       "4         3         0    1.0       1.0   NaN  obj from rel clause  "
      ]
     },
     "execution_count": 12,
     "metadata": {},
     "output_type": "execute_result"
    }
   ],
   "source": [
    "dep_df = pd.read_csv('data/dep_data.csv', header=0, names=['text', 'gr','head','dep','distance', 'dep_type', 'spacy', 'stanford', 'rasp'])\n",
    "dep_lookup = {0: 'obj from rel clause', 1: 'obj from reduced rel clause', 2: 'subj from rel clause', \\\n",
    "              3: 'free relative', 4: 'obj wh-questions', 5: 'RNR', 6: 'subj from embed'}\n",
    "\n",
    "data = dep_df.copy()\n",
    "data[\"dep_name\"] = [dep_lookup[i] for i in dep_df.dep_type]\n",
    "print(len(data.text))\n",
    "data.head()"
   ]
  },
  {
   "cell_type": "code",
   "execution_count": 13,
   "metadata": {},
   "outputs": [
    {
     "data": {
      "text/plain": [
       "dep_name\n",
       "RNR                             5\n",
       "free relative                   5\n",
       "obj from reduced rel clause     6\n",
       "obj from rel clause             8\n",
       "obj wh-questions                9\n",
       "subj from embed                 7\n",
       "subj from rel clause           13\n",
       "Name: distance, dtype: int64"
      ]
     },
     "execution_count": 13,
     "metadata": {},
     "output_type": "execute_result"
    }
   ],
   "source": [
    "# get max distance btw head and dependent by dep_type\n",
    "data.groupby(\"dep_name\")[\"distance\"].max()"
   ]
  },
  {
   "cell_type": "code",
   "execution_count": 22,
   "metadata": {},
   "outputs": [
    {
     "data": {
      "text/plain": [
       "dep_name\n",
       "RNR                            2.500000\n",
       "free relative                  3.000000\n",
       "obj from reduced rel clause    3.750000\n",
       "obj from rel clause            3.857143\n",
       "obj wh-questions               7.250000\n",
       "subj from embed                4.500000\n",
       "subj from rel clause           5.666667\n",
       "Name: distance, dtype: float64"
      ]
     },
     "execution_count": 22,
     "metadata": {},
     "output_type": "execute_result"
    }
   ],
   "source": [
    "# get average distance btw head and dependent by dep_type\n",
    "avg_dist = data.groupby(\"dep_name\")[\"distance\"].mean()\n",
    "avg_dist"
   ]
  },
  {
   "cell_type": "code",
   "execution_count": 23,
   "metadata": {},
   "outputs": [
    {
     "data": {
      "text/plain": [
       "dep_name\n",
       "RNR                            0.250000\n",
       "free relative                  0.500000\n",
       "obj from reduced rel clause    1.000000\n",
       "obj from rel clause            0.857143\n",
       "obj wh-questions               0.000000\n",
       "subj from embed                0.500000\n",
       "subj from rel clause           0.600000\n",
       "Name: spacy, dtype: float64"
      ]
     },
     "execution_count": 23,
     "metadata": {},
     "output_type": "execute_result"
    }
   ],
   "source": [
    "# accuracy by dep_type for spacy\n",
    "spacy_acc = data.groupby(\"dep_name\")[\"spacy\"].mean()\n",
    "spacy_acc"
   ]
  },
  {
   "cell_type": "code",
   "execution_count": 16,
   "metadata": {},
   "outputs": [
    {
     "data": {
      "text/plain": [
       "0.5625"
      ]
     },
     "execution_count": 16,
     "metadata": {},
     "output_type": "execute_result"
    }
   ],
   "source": [
    "# overall accuracy for spacy\n",
    "data[\"spacy\"].mean()"
   ]
  },
  {
   "cell_type": "code",
   "execution_count": 24,
   "metadata": {},
   "outputs": [
    {
     "data": {
      "text/plain": [
       "dep_name\n",
       "RNR                            0.250000\n",
       "free relative                  1.000000\n",
       "obj from reduced rel clause    1.000000\n",
       "obj from rel clause            0.571429\n",
       "obj wh-questions               0.250000\n",
       "subj from embed                0.250000\n",
       "subj from rel clause           0.400000\n",
       "Name: stanford, dtype: float64"
      ]
     },
     "execution_count": 24,
     "metadata": {},
     "output_type": "execute_result"
    }
   ],
   "source": [
    "# accuracy by dep_type for stanford parser\n",
    "stanford_acc =data.groupby(\"dep_name\")[\"stanford\"].mean()\n",
    "stanford_acc"
   ]
  },
  {
   "cell_type": "code",
   "execution_count": 18,
   "metadata": {},
   "outputs": [
    {
     "data": {
      "text/plain": [
       "0.53125"
      ]
     },
     "execution_count": 18,
     "metadata": {},
     "output_type": "execute_result"
    }
   ],
   "source": [
    "# overall accuracy for stanford\n",
    "data[\"stanford\"].mean()"
   ]
  },
  {
   "cell_type": "code",
   "execution_count": 19,
   "metadata": {},
   "outputs": [
    {
     "data": {
      "text/plain": [
       "dep_name\n",
       "RNR                           NaN\n",
       "free relative                 NaN\n",
       "obj from reduced rel clause   NaN\n",
       "obj from rel clause           NaN\n",
       "obj wh-questions              NaN\n",
       "subj from embed               NaN\n",
       "subj from rel clause          NaN\n",
       "Name: rasp, dtype: float64"
      ]
     },
     "execution_count": 19,
     "metadata": {},
     "output_type": "execute_result"
    }
   ],
   "source": [
    "# accuracy by dep_type for rasp \n",
    "data.groupby(\"dep_name\")[\"rasp\"].mean()"
   ]
  },
  {
   "cell_type": "code",
   "execution_count": 20,
   "metadata": {},
   "outputs": [
    {
     "data": {
      "text/plain": [
       "nan"
      ]
     },
     "execution_count": 20,
     "metadata": {},
     "output_type": "execute_result"
    }
   ],
   "source": [
    "# overall accuracy for rasp\n",
    "data[\"rasp\"].mean()"
   ]
  },
  {
   "cell_type": "code",
   "execution_count": 38,
   "metadata": {},
   "outputs": [
    {
     "ename": "TypeError",
     "evalue": "scatter() missing 1 required positional argument: 'y'",
     "output_type": "error",
     "traceback": [
      "\u001b[0;31m---------------------------------------------------------------------------\u001b[0m",
      "\u001b[0;31mTypeError\u001b[0m                                 Traceback (most recent call last)",
      "\u001b[0;32m<ipython-input-38-2c16d82c2603>\u001b[0m in \u001b[0;36m<module>\u001b[0;34m\u001b[0m\n\u001b[1;32m      7\u001b[0m \u001b[0mto_plot\u001b[0m\u001b[0;34m.\u001b[0m\u001b[0mhead\u001b[0m\u001b[0;34m(\u001b[0m\u001b[0;34m)\u001b[0m\u001b[0;34m\u001b[0m\u001b[0;34m\u001b[0m\u001b[0m\n\u001b[1;32m      8\u001b[0m \u001b[0mplt\u001b[0m\u001b[0;34m.\u001b[0m\u001b[0mscatter\u001b[0m\u001b[0;34m(\u001b[0m\u001b[0mto_plot\u001b[0m\u001b[0;34m[\u001b[0m\u001b[0;34m'distance'\u001b[0m\u001b[0;34m]\u001b[0m\u001b[0;34m,\u001b[0m \u001b[0mto_plot\u001b[0m\u001b[0;34m[\u001b[0m\u001b[0;34m'spacy'\u001b[0m\u001b[0;34m]\u001b[0m\u001b[0;34m)\u001b[0m\u001b[0;34m\u001b[0m\u001b[0;34m\u001b[0m\u001b[0m\n\u001b[0;32m----> 9\u001b[0;31m \u001b[0mplt\u001b[0m\u001b[0;34m.\u001b[0m\u001b[0mscatter\u001b[0m\u001b[0;34m(\u001b[0m\u001b[0mto_plot\u001b[0m\u001b[0;34m[\u001b[0m\u001b[0;34m'stanford'\u001b[0m\u001b[0;34m]\u001b[0m\u001b[0;34m)\u001b[0m\u001b[0;34m\u001b[0m\u001b[0;34m\u001b[0m\u001b[0m\n\u001b[0m\u001b[1;32m     10\u001b[0m \u001b[0;34m\u001b[0m\u001b[0m\n\u001b[1;32m     11\u001b[0m \u001b[0;31m# to_plot.scatter(x='distance', y='spacy')\u001b[0m\u001b[0;34m\u001b[0m\u001b[0;34m\u001b[0m\u001b[0;34m\u001b[0m\u001b[0m\n",
      "\u001b[0;31mTypeError\u001b[0m: scatter() missing 1 required positional argument: 'y'"
     ]
    },
    {
     "data": {
      "image/png": "[encoded data removed]",
      "text/plain": [
       "<Figure size 432x288 with 1 Axes>"
      ]
     },
     "metadata": {
      "needs_background": "light"
     },
     "output_type": "display_data"
    }
   ],
   "source": [
    "# mutiple line plots of avg distance vs accuracy \n",
    "# by type by parser\n",
    "\n",
    "# df = pd.DataFrame(np.random.randn(1000, 4), index=ts.index, columns=list(\"ABCD\"))\n",
    "import matplotlib.pyplot as plt\n",
    "to_plot = pd.concat([avg_dist, spacy_acc, stanford_acc], axis=1)\n",
    "to_plot.head()\n",
    "plt.scatter(to_plot['distance'], to_plot['spacy'])\n",
    "# plt.scatter(to_plot['stanford'])\n",
    "\n",
    "# to_plot.scatter(x='distance', y='spacy')"
   ]
  },
  {
   "cell_type": "code",
   "execution_count": 28,
   "metadata": {},
   "outputs": [
    {
     "name": "stdout",
     "output_type": "stream",
     "text": [
      "Collecting matplotlib\n",
      "  Using cached matplotlib-3.3.3-cp37-cp37m-macosx_10_9_x86_64.whl (8.5 MB)\n",
      "Requirement already satisfied: numpy>=1.15 in /Users/hope/miniconda3/envs/parsers/lib/python3.7/site-packages (from matplotlib) (1.19.5)\n",
      "Requirement already satisfied: pyparsing!=2.0.4,!=2.1.2,!=2.1.6,>=2.0.3 in /Users/hope/miniconda3/envs/parsers/lib/python3.7/site-packages (from matplotlib) (2.4.7)\n",
      "Requirement already satisfied: python-dateutil>=2.1 in /Users/hope/miniconda3/envs/parsers/lib/python3.7/site-packages (from matplotlib) (2.8.1)\n",
      "Collecting cycler>=0.10\n",
      "  Using cached cycler-0.10.0-py2.py3-none-any.whl (6.5 kB)\n",
      "Requirement already satisfied: six in /Users/hope/miniconda3/envs/parsers/lib/python3.7/site-packages (from cycler>=0.10->matplotlib) (1.15.0)\n",
      "Collecting kiwisolver>=1.0.1\n",
      "  Using cached kiwisolver-1.3.1-cp37-cp37m-macosx_10_9_x86_64.whl (61 kB)\n",
      "Collecting pillow>=6.2.0\n",
      "  Downloading Pillow-8.1.0-cp37-cp37m-macosx_10_10_x86_64.whl (2.2 MB)\n",
      "\u001b[K     |████████████████████████████████| 2.2 MB 3.0 MB/s eta 0:00:01\n",
      "\u001b[?25hInstalling collected packages: pillow, kiwisolver, cycler, matplotlib\n",
      "Successfully installed cycler-0.10.0 kiwisolver-1.3.1 matplotlib-3.3.3 pillow-8.1.0\n"
     ]
    }
   ],
   "source": [
    "! pip install matplotlib"
   ]
  },
  {
   "cell_type": "code",
   "execution_count": null,
   "metadata": {},
   "outputs": [],
   "source": []
  }
 ],
 "metadata": {
  "kernelspec": {
   "display_name": "Python (parsers)",
   "language": "python",
   "name": "parsers"
  },
  "language_info": {
   "codemirror_mode": {
    "name": "ipython",
    "version": 3
   },
   "file_extension": ".py",
   "mimetype": "text/x-python",
   "name": "python",
   "nbconvert_exporter": "python",
   "pygments_lexer": "ipython3",
   "version": "3.7.9"
  }
 },
 "nbformat": 4,
 "nbformat_minor": 4
}
